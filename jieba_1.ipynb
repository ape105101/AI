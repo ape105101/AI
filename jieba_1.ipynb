{
 "cells": [
  {
   "cell_type": "code",
   "execution_count": 2,
   "metadata": {},
   "outputs": [
    {
     "name": "stdout",
     "output_type": "stream",
     "text": [
      "Full Mode: 我/ 來/ 到/ 台中/ 教育/ 大/ 學\n",
      "Default Mode: 我來/ 到/ 台/ 中/ 教育/ 大學\n",
      "我來, 到, 台, 中, 教育, 大學\n",
      "志明, 碩士, 畢業, 於, 台, 中, 教育, 大學, ，, 後, 在, 日本, 東京大學, 深造\n"
     ]
    }
   ],
   "source": [
    "# Jieba1\n",
    "\n",
    "#encoding=utf-8\n",
    "import jieba\n",
    "\n",
    "seg_list = jieba.cut(\"我來到台中教育大學\",cut_all=True)\n",
    "print (\"Full Mode:\", \"/ \".join(seg_list)) #全模式\n",
    "\n",
    "seg_list = jieba.cut(\"我來到台中教育大學\",cut_all=False)\n",
    "print (\"Default Mode:\", \"/ \".join(seg_list)) #精確模式\n",
    "\n",
    "seg_list = jieba.cut(\"我來到台中教育大學\") #默認是精確模式\n",
    "print (\", \".join(seg_list))\n",
    "\n",
    "seg_list = jieba.cut_for_search(\"志明碩士畢業於台中教育大學，後在日本東京大學深造\") #搜索引擎模式\n",
    "print (\", \".join(seg_list))"
   ]
  },
  {
   "cell_type": "code",
   "execution_count": 5,
   "metadata": {},
   "outputs": [
    {
     "name": "stderr",
     "output_type": "stream",
     "text": [
      "Building prefix dict from C:\\Users\\user\\斷詞和文字雲\\dictionary\\dict.txt.big.txt ...\n",
      "Dumping model to file cache C:\\Users\\user\\AppData\\Local\\Temp\\jieba.u0f5d017aba5d04f27b9479bc01049793.cache\n",
      "Loading model cost 1.162 seconds.\n",
      "Prefix dict has been built succesfully.\n"
     ]
    },
    {
     "name": "stdout",
     "output_type": "stream",
     "text": [
      "預設模式:我|來到|台中教育大學|就讀|碩士\n",
      "全文模式:我|來到|台中|台中教育大學|教育|大學|就讀|碩士\n",
      "搜尋引擎:我|來到|台中|教育|大學|台中教育大學|就讀|碩士\n"
     ]
    }
   ],
   "source": [
    "# Jieba2  設定中文詞庫\n",
    "\n",
    "#encoding=utf-8\n",
    "import jieba\n",
    "\n",
    "# 設定繁體中文詞庫\n",
    "jieba.set_dictionary('dictionary/dict.txt.big.txt')  \n",
    "\n",
    "sentence = \"我來到台中教育大學就讀碩士\"\n",
    "# 預設模式斷詞\n",
    "breakword = jieba.cut(sentence, cut_all=False)\n",
    "print(\"預設模式:\" + '|' . join(breakword))\n",
    "\n",
    "# 全文模式斷詞\n",
    "breakword = jieba.cut(sentence, cut_all=True)\n",
    "print(\"全文模式:\" + '|' . join(breakword))\n",
    "\n",
    "# 搜尋引擎模式斷詞\n",
    "breakword = jieba.cut_for_search(sentence)\n",
    "print(\"搜尋引擎:\" + '|' . join(breakword))\n"
   ]
  },
  {
   "cell_type": "code",
   "execution_count": 9,
   "metadata": {
    "scrolled": false
   },
   "outputs": [
    {
     "name": "stderr",
     "output_type": "stream",
     "text": [
      "Building prefix dict from C:\\Users\\user\\斷詞和文字雲\\dictionary\\dict.txt.big.txt ...\n",
      "Loading model from cache C:\\Users\\user\\AppData\\Local\\Temp\\jieba.u0f5d017aba5d04f27b9479bc01049793.cache\n",
      "Loading model cost 1.332 seconds.\n",
      "Prefix dict has been built succesfully.\n"
     ]
    },
    {
     "name": "stdout",
     "output_type": "stream",
     "text": [
      "預設模式:張渝婷|來到|台中教育大學|數位系|就讀|學士\n",
      "全文模式:張渝婷|來到|台中|台中教育大學|教育|大學|數位|數位系|就讀|學士\n",
      "搜尋引擎:張渝婷|來到|台中|教育|大學|台中教育大學|數位|數位系|就讀|學士\n"
     ]
    }
   ],
   "source": [
    "# Jieba2 \n",
    "\n",
    "#encoding=utf-8\n",
    "import jieba\n",
    "\n",
    "# 設定繁體中文詞庫\n",
    "jieba.set_dictionary('dictionary/dict.txt.big.txt')  \n",
    "\n",
    "sentence = \"張渝婷來到台中教育大學數位系就讀學士\"\n",
    "\n",
    "jieba.add_word('數位系')\n",
    "jieba.add_word('張渝婷')\n",
    "#jieba.del_word('自定義詞')\n",
    "\n",
    "# 預設模式斷詞\n",
    "breakword = jieba.cut(sentence, cut_all=False)\n",
    "print(\"預設模式:\" + '|' . join(breakword))\n",
    "\n",
    "# 全文模式斷詞\n",
    "breakword = jieba.cut(sentence, cut_all=True)\n",
    "print(\"全文模式:\" + '|' . join(breakword))\n",
    "\n",
    "# 搜尋引擎模式斷詞\n",
    "breakword = jieba.cut_for_search(sentence)\n",
    "print(\"搜尋引擎:\" + '|' . join(breakword))\n"
   ]
  },
  {
   "cell_type": "code",
   "execution_count": 10,
   "metadata": {},
   "outputs": [
    {
     "name": "stderr",
     "output_type": "stream",
     "text": [
      "Building prefix dict from C:\\Users\\user\\斷詞和文字雲\\dictionary\\dict.txt.big.txt ...\n",
      "Loading model from cache C:\\Users\\user\\AppData\\Local\\Temp\\jieba.u0f5d017aba5d04f27b9479bc01049793.cache\n",
      "Loading model cost 1.302 seconds.\n",
      "Prefix dict has been built succesfully.\n"
     ]
    },
    {
     "name": "stdout",
     "output_type": "stream",
     "text": [
      "預設模式:張渝婷|來到|台中教育大學|數位系|就讀|學士\n",
      "全文模式:張渝婷|來到|台中|台中教育大學|教育|大學|數位|數位系|就讀|學士\n",
      "搜尋引擎:張渝婷|來到|台中|教育|大學|台中教育大學|數位|數位系|就讀|學士\n"
     ]
    }
   ],
   "source": [
    "# Jieba3 增加自定義詞典\n",
    "\n",
    "#encoding=utf-8\n",
    "import jieba\n",
    "\n",
    "# 設定繁體中文詞庫\n",
    "jieba.set_dictionary('dictionary/dict.txt.big.txt')  \n",
    "\n",
    "# 增加自定義停用詞\n",
    "jieba.load_userdict('dictionary/user_dict.txt')\n",
    "\n",
    "sentence = \"張渝婷來到台中教育大學數位系就讀學士\"\n",
    "\n",
    "jieba.add_word('數位系')\n",
    "jieba.add_word('張渝婷')\n",
    "#jieba.del_word('自定義詞')\n",
    "\n",
    "# 預設模式斷詞\n",
    "breakword = jieba.cut(sentence, cut_all=False)\n",
    "print(\"預設模式:\" + '|' . join(breakword))\n",
    "\n",
    "# 全文模式斷詞\n",
    "breakword = jieba.cut(sentence, cut_all=True)\n",
    "print(\"全文模式:\" + '|' . join(breakword))\n",
    "\n",
    "# 搜尋引擎模式斷詞\n",
    "breakword = jieba.cut_for_search(sentence)\n",
    "print(\"搜尋引擎:\" + '|' . join(breakword))\n"
   ]
  },
  {
   "cell_type": "code",
   "execution_count": 11,
   "metadata": {},
   "outputs": [
    {
     "name": "stderr",
     "output_type": "stream",
     "text": [
      "Building prefix dict from C:\\Users\\user\\斷詞和文字雲\\dictionary\\dict.txt.big.txt ...\n",
      "Loading model from cache C:\\Users\\user\\AppData\\Local\\Temp\\jieba.u0f5d017aba5d04f27b9479bc01049793.cache\n",
      "Loading model cost 1.308 seconds.\n",
      "Prefix dict has been built succesfully.\n"
     ]
    },
    {
     "name": "stdout",
     "output_type": "stream",
     "text": [
      "預設模式:張渝婷|，|來到|國立臺中教育大學|數位系|就讀|學士|。\n",
      "全文模式:張渝婷|||來到|國立|國立臺中教育大學|臺中|教育|大學|數位|數位系|就讀|學士||\n",
      "搜尋引擎:張渝婷|，|來到|國立|臺中|教育|大學|國立臺中教育大學|數位|數位系|就讀|學士|。\n"
     ]
    }
   ],
   "source": [
    "# Jieba4 增加自定義停用詞\n",
    "\n",
    "#encoding=utf-8\n",
    "import jieba\n",
    "\n",
    "# 設定繁體中文詞庫\n",
    "jieba.set_dictionary('dictionary/dict.txt.big.txt')  \n",
    "\n",
    "# 增加自定義停用詞\n",
    "jieba.load_userdict('dictionary/user_dict.txt')\n",
    "\n",
    "\n",
    "sentence = \"張渝婷，來到國立臺中教育大學數位系就讀學士。\"\n",
    "\n",
    "jieba.add_word('數位系')\n",
    "#jieba.add_word('凱特琳')\n",
    "#jieba.del_word('自定义词')\n",
    "\n",
    "# 預設模式斷詞\n",
    "breakword = jieba.cut(sentence, cut_all=False)\n",
    "print(\"預設模式:\" + '|' . join(breakword))\n",
    "\n",
    "# 全文模式斷詞\n",
    "breakword = jieba.cut(sentence, cut_all=True)\n",
    "print(\"全文模式:\" + '|' . join(breakword))\n",
    "\n",
    "# 搜尋引擎模式斷詞\n",
    "breakword = jieba.cut_for_search(sentence)\n",
    "print(\"搜尋引擎:\" + '|' . join(breakword))"
   ]
  },
  {
   "cell_type": "code",
   "execution_count": 12,
   "metadata": {
    "scrolled": true
   },
   "outputs": [
    {
     "name": "stderr",
     "output_type": "stream",
     "text": [
      "Building prefix dict from C:\\Users\\user\\斷詞和文字雲\\dictionary\\dict.txt.big.txt ...\n",
      "Loading model from cache C:\\Users\\user\\AppData\\Local\\Temp\\jieba.u0f5d017aba5d04f27b9479bc01049793.cache\n",
      "Loading model cost 0.984 seconds.\n",
      "Prefix dict has been built succesfully.\n"
     ]
    },
    {
     "name": "stdout",
     "output_type": "stream",
     "text": [
      "停用詞:\"|;|,|，|。|．|來到|什麼|喔|！\n",
      "去除停用:張渝婷|國立臺中教育大學|數位系|就讀|學士\n",
      "預設模式:張渝婷|，|來到|國立臺中教育大學|數位系|就讀|學士|喔|！\n",
      "全文模式:張渝婷|||來到|國立|國立臺中教育大學|臺中|教育|大學|數位|數位系|就讀|學士|喔||\n",
      "搜尋引擎:張渝婷|，|來到|國立|臺中|教育|大學|國立臺中教育大學|數位|數位系|就讀|學士|喔|！\n"
     ]
    }
   ],
   "source": [
    "# Jieba5 增加停用字\n",
    "\n",
    "#encoding=utf-8\n",
    "import jieba\n",
    "\n",
    "# 設定繁體中文詞庫\n",
    "jieba.set_dictionary('dictionary/dict.txt.big.txt')  \n",
    "\n",
    "# 增加自定義停用詞\n",
    "jieba.load_userdict('dictionary/user_dict.txt')\n",
    "\n",
    "# 打開停用字詞典\n",
    "with open('dictionary/stopword.txt', 'r', encoding='utf-8-sig') as file:\n",
    "    stops = file.read().split('\\n')  # 將停用詞儲存在stops串列中\n",
    "print(\"停用詞:\"+'|' . join(stops))\n",
    "    \n",
    "sentence = \"張渝婷，來到國立臺中教育大學數位系就讀學士喔！\"\n",
    "\n",
    "jieba.add_word('數位系')\n",
    "jieba.add_word('張渝婷')\n",
    "#jieba.del_word('自定義詞')\n",
    "\n",
    "# 預設模式斷詞\n",
    "breakword = jieba.cut(sentence, cut_all=False)\n",
    "final_words = []   #儲存最後的詞\n",
    "#拆解句子為字詞\n",
    "for word in breakword:     # 拆解句子為字詞\n",
    "    if word not in stops:  #不是停用詞\n",
    "        final_words.append(word)\n",
    "print(\"去除停用:\" + '|' . join(final_words))\n",
    "\n",
    "breakword = jieba.cut(sentence, cut_all=False)\n",
    "print(\"預設模式:\" + '|' . join(breakword))    \n",
    "\n",
    "# 全文模式斷詞\n",
    "breakword = jieba.cut(sentence, cut_all=True)\n",
    "print(\"全文模式:\" + '|' . join(breakword))\n",
    "\n",
    "# 搜尋引擎模式斷詞\n",
    "breakword = jieba.cut_for_search(sentence)\n",
    "print(\"搜尋引擎:\" + '|' . join(breakword))"
   ]
  },
  {
   "cell_type": "code",
   "execution_count": null,
   "metadata": {},
   "outputs": [],
   "source": []
  }
 ],
 "metadata": {
  "kernelspec": {
   "display_name": "Python 3",
   "language": "python",
   "name": "python3"
  },
  "language_info": {
   "codemirror_mode": {
    "name": "ipython",
    "version": 3
   },
   "file_extension": ".py",
   "mimetype": "text/x-python",
   "name": "python",
   "nbconvert_exporter": "python",
   "pygments_lexer": "ipython3",
   "version": "3.6.5"
  }
 },
 "nbformat": 4,
 "nbformat_minor": 2
}
