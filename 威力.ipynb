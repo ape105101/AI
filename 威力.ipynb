{
 "cells": [
  {
   "cell_type": "code",
   "execution_count": 4,
   "metadata": {},
   "outputs": [
    {
     "name": "stdout",
     "output_type": "stream",
     "text": [
      "[<div class=\"ball_tx ball_green\">16 </div>, <div class=\"ball_tx ball_green\">13 </div>, <div class=\"ball_tx ball_green\">33 </div>, <div class=\"ball_tx ball_green\">15 </div>, <div class=\"ball_tx ball_green\">14 </div>, <div class=\"ball_tx ball_green\">31 </div>, <div class=\"ball_tx ball_green\">13 </div>, <div class=\"ball_tx ball_green\">14 </div>, <div class=\"ball_tx ball_green\">15 </div>, <div class=\"ball_tx ball_green\">16 </div>, <div class=\"ball_tx ball_green\">31 </div>, <div class=\"ball_tx ball_green\">33 </div>]\n",
      "開出順序:16   13   33   15   14   31   \n",
      "大小順序:13   14   15   16   31   33   \n",
      "第二區:04 \n"
     ]
    }
   ],
   "source": [
    "import requests\n",
    "from bs4 import BeautifulSoup\n",
    "url = 'http://www.taiwanlottery.com.tw/'\n",
    "html = requests.get(url)\n",
    "sp = BeautifulSoup(html.text, 'html.parser')\n",
    "data1 = sp.select(\"#rightdown\")\n",
    "data2 = data1[0].find('div',{'class':'contents_box02'})\n",
    "data3 = data2.find_all('div',{'class':'ball_tx ball_green'})\n",
    "print(data3)\n",
    "print(\"開出順序:\",end=\"\")\n",
    "for n in range(0,6):\n",
    "    print(data3[n].text,end=\"  \")\n",
    "print(\"\\n大小順序:\",end=\"\")\n",
    "for n in range(6,len(data3)):\n",
    "    print(data3[n].text,end=\"  \")\n",
    "red = data2.find('div',{'class':'ball_red'})\n",
    "print(\"\\n第二區:{}\".format(red.text))\n",
    "\n"
   ]
  },
  {
   "cell_type": "code",
   "execution_count": null,
   "metadata": {},
   "outputs": [],
   "source": []
  }
 ],
 "metadata": {
  "kernelspec": {
   "display_name": "Python 3",
   "language": "python",
   "name": "python3"
  },
  "language_info": {
   "codemirror_mode": {
    "name": "ipython",
    "version": 3
   },
   "file_extension": ".py",
   "mimetype": "text/x-python",
   "name": "python",
   "nbconvert_exporter": "python",
   "pygments_lexer": "ipython3",
   "version": "3.7.3"
  }
 },
 "nbformat": 4,
 "nbformat_minor": 2
}
