{
 "cells": [
  {
   "cell_type": "code",
   "execution_count": 1,
   "metadata": {},
   "outputs": [],
   "source": [
    "import cv2\n",
    "face_cascade = cv2.CascadeClassifier('haarcascade_frontalface_default.xml')#載入分類器\n",
    "\n",
    "img = cv2.imread('star2.png')#轉灰階\n",
    "gray = cv2.cvtColor(img, cv2.COLOR_BGR2GRAY)\n",
    "\n",
    "#偵測臉部\n",
    "faces = face_cascade.detectMultiScale(gray,scaleFactor=1.5,minNeighbors=5,minSize=(32, 32))\n",
    "for (x, y, w, h) in faces:\n",
    "    cv2.rectangle(img, (x, y), (x + w, y + h), (0, 0, 255),2) #(BGR)顯示成果\n",
    "    \n",
    "cv2.namedWindow('img', cv2.WINDOW_NORMAL)#正常視窗大小\n",
    "cv2.imshow('img', img) #show pictrue\n",
    "cv2.imwrite( \"result3.jpg\", img) #保存圖片\n",
    "cv2.waitKey(0) #等待並按下任一鍵\n",
    "cv2.destroyAllWindows() #關閉視窗\n",
    "\n",
    "#cap.release()\n",
    "#cv2.destroyAllWindows()\n",
    "\n",
    "#圖片數據\n",
    "#ScaleFactor：每次搜尋方塊減少的比例\n",
    "#minNeighbers：每個目標至少檢測到幾次以上，才可被認定是真數據。\n",
    "#minSize：設定數據搜尋的最小尺寸 ，如 minSize=(40,40)"
   ]
  },
  {
   "cell_type": "code",
   "execution_count": 2,
   "metadata": {},
   "outputs": [
    {
     "name": "stdout",
     "output_type": "stream",
     "text": [
      "[[415  79 122 122]\n",
      " [724  78 122 122]\n",
      " [ 87  94 122 122]]\n",
      "AI found 3 people\n"
     ]
    }
   ],
   "source": [
    "print(faces)\n",
    "print('AI found {0} people'.format(len(faces)))"
   ]
  },
  {
   "cell_type": "code",
   "execution_count": null,
   "metadata": {},
   "outputs": [],
   "source": []
  }
 ],
 "metadata": {
  "kernelspec": {
   "display_name": "Python 3",
   "language": "python",
   "name": "python3"
  },
  "language_info": {
   "codemirror_mode": {
    "name": "ipython",
    "version": 3
   },
   "file_extension": ".py",
   "mimetype": "text/x-python",
   "name": "python",
   "nbconvert_exporter": "python",
   "pygments_lexer": "ipython3",
   "version": "3.7.3"
  }
 },
 "nbformat": 4,
 "nbformat_minor": 2
}
