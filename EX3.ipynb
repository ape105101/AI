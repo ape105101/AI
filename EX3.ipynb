{
 "cells": [
  {
   "cell_type": "code",
   "execution_count": 1,
   "metadata": {},
   "outputs": [
    {
     "name": "stdout",
     "output_type": "stream",
     "text": [
      "請輸入身高 (cm):180\n",
      "請輸入體重 (kg):180\n"
     ]
    }
   ],
   "source": [
    "BMI = 0\n",
    "height = int (input(\"請輸入身高 (cm):\"))\n",
    "weight = int (input(\"請輸入體重 (kg):\"))"
   ]
  },
  {
   "cell_type": "code",
   "execution_count": 2,
   "metadata": {},
   "outputs": [
    {
     "name": "stdout",
     "output_type": "stream",
     "text": [
      "BMI = 55.555556\n",
      "\n"
     ]
    }
   ],
   "source": [
    "BMI = (weight) / ((height/100)*(height/100))\n",
    "print (\"BMI = %f\\n\" % (BMI))"
   ]
  },
  {
   "cell_type": "code",
   "execution_count": 3,
   "metadata": {},
   "outputs": [
    {
     "name": "stdout",
     "output_type": "stream",
     "text": [
      "體重過重!\n"
     ]
    }
   ],
   "source": [
    "if BMI < 18.5:\n",
    "    print(\"過瘦!\")\n",
    "if BMI >=18.5 and BMI <24:\n",
    "    print(\"體重標準!\")\n",
    "if BMI >= 24:\n",
    "    print(\"體重過重!\")"
   ]
  },
  {
   "cell_type": "code",
   "execution_count": null,
   "metadata": {},
   "outputs": [],
   "source": []
  }
 ],
 "metadata": {
  "kernelspec": {
   "display_name": "Python 3",
   "language": "python",
   "name": "python3"
  },
  "language_info": {
   "codemirror_mode": {
    "name": "ipython",
    "version": 3
   },
   "file_extension": ".py",
   "mimetype": "text/x-python",
   "name": "python",
   "nbconvert_exporter": "python",
   "pygments_lexer": "ipython3",
   "version": "3.5.0"
  }
 },
 "nbformat": 4,
 "nbformat_minor": 2
}
