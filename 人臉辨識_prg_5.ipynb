{
 "cells": [
  {
   "cell_type": "code",
   "execution_count": 1,
   "metadata": {},
   "outputs": [],
   "source": [
    "import cv2\n",
    "face_cascade = cv2.CascadeClassifier('haarcascade_frontalface_default.xml')#載入分類器\n",
    "#從視訊鏡頭擷取\n",
    "cap = cv2.VideoCapture(0)\n",
    "while(True):\n",
    "    #read the frame\n",
    "    _, img = cap.read()\n",
    "    \n",
    "    #轉灰階\n",
    "    #img = cv2.imread('star2.png')#轉灰階\n",
    "    gray = cv2.cvtColor(img, cv2.COLOR_BGR2GRAY)\n",
    "    \n",
    "    #偵測臉部\n",
    "    faces = face_cascade.detectMultiScale(gray, 1.1, 4)\n",
    "    \n",
    "    i=1\n",
    "    #繪製框框\n",
    "    for (x, y, w, h) in faces:\n",
    "        cv2.rectangle(img, (x, y), (x + w, y + h), (0, 0, 255),2)\n",
    "        crop_img=img[y:y+h, x:x+w]\n",
    "        cv2.imwrite(\"people\"+str(i)+\".png\", crop_img)\n",
    "        i=i+1\n",
    "        \n",
    "    #偵測臉部\n",
    "    #faces = face_cascade.detectMultiScale(gray,scaleFactor=1.5,minNeighbors=5,minSize=(32, 32))\n",
    "    #for (x, y, w, h) in faces:\n",
    "        #cv2.rectangle(img, (x, y), (x + w, y + h), (0, 0, 255),2) #(BGR)顯示成果\n",
    "\n",
    "    #顯示成果\n",
    "    cv2.namedWindow('APE105101', cv2.WINDOW_NORMAL)#正常視窗大小\n",
    "    cv2.imshow('APE105101', img) #show pictrue\n",
    "    if cv2.waitKey(30) == ord('s'):\n",
    "        cv2.imwrite( \"save_APE105101.png\", img) #保存圖片\n",
    "    if cv2.waitKey(30) == ord('q'):\n",
    "        break\n",
    "cap.release()\n",
    "cv2.destroyAllWindows() #關閉視窗\n",
    "#cv2.waitKey(0) #等待並按下任一鍵\n"
   ]
  },
  {
   "cell_type": "code",
   "execution_count": 2,
   "metadata": {
    "scrolled": true
   },
   "outputs": [
    {
     "name": "stdout",
     "output_type": "stream",
     "text": [
      "[[144 180 250 250]]\n",
      "AI found 1 people\n"
     ]
    }
   ],
   "source": [
    "print(faces)\n",
    "print('AI found {0} people'.format(len(faces)))"
   ]
  }
 ],
 "metadata": {
  "kernelspec": {
   "display_name": "Python 3",
   "language": "python",
   "name": "python3"
  },
  "language_info": {
   "codemirror_mode": {
    "name": "ipython",
    "version": 3
   },
   "file_extension": ".py",
   "mimetype": "text/x-python",
   "name": "python",
   "nbconvert_exporter": "python",
   "pygments_lexer": "ipython3",
   "version": "3.7.3"
  }
 },
 "nbformat": 4,
 "nbformat_minor": 2
}
